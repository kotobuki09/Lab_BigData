{
 "cells": [
  {
   "cell_type": "code",
   "execution_count": 1,
   "metadata": {},
   "outputs": [],
   "source": [
    "import os \n",
    "packages = \"org.apache.spark:spark-sql-kafka-0-10_2.12:3.0.1\"\n",
    "\n",
    "os.environ[\"PYSPARK_SUBMIT_ARGS\"] = (\n",
    "    \"--packages {0} pyspark-shell\".format(packages)\n",
    ")\n",
    "\n",
    "from pyspark.context import SparkContext\n",
    "from pyspark.sql.session import SparkSession\n",
    "sc = SparkContext('local')\n",
    "spark = SparkSession(sc)"
   ]
  },
  {
   "cell_type": "code",
   "execution_count": null,
   "metadata": {},
   "outputs": [],
   "source": []
  },
  {
   "cell_type": "code",
   "execution_count": 2,
   "metadata": {},
   "outputs": [],
   "source": [
    "df1 = spark.readStream.format(\"kafka\")\\\n",
    ".option(\"kafka.bootstrap.servers\", \"192.168.240.2:9092\")\\\n",
    ".option(\"subscribe\", \"default_topic\")\\\n",
    ".load()\n"
   ]
  },
  {
   "cell_type": "code",
   "execution_count": 11,
   "metadata": {},
   "outputs": [],
   "source": [
    "query2 = df1.writeStream\\\n",
    "    .queryName(\"device_counts\").format(\"memory\")\\\n",
    "    .start()"
   ]
  },
  {
   "cell_type": "code",
   "execution_count": 15,
   "metadata": {},
   "outputs": [
    {
     "name": "stdout",
     "output_type": "stream",
     "text": [
      "+----------+--------------------+-------------+---------+------+--------------------+-------------+\n",
      "|       key|               value|        topic|partition|offset|           timestamp|timestampType|\n",
      "+----------+--------------------+-------------+---------+------+--------------------+-------------+\n",
      "|[31 30 37]|[7B 22 5F 63 30 2...|default_topic|        0|   790|2020-10-08 18:52:...|            0|\n",
      "|[31 30 38]|[7B 22 5F 63 30 2...|default_topic|        0|   791|2020-10-08 18:52:...|            0|\n",
      "|[31 30 39]|[7B 22 5F 63 30 2...|default_topic|        0|   792|2020-10-08 18:52:...|            0|\n",
      "|[31 31 30]|[7B 22 5F 63 30 2...|default_topic|        0|   793|2020-10-08 18:52:...|            0|\n",
      "|[31 31 31]|[7B 22 5F 63 30 2...|default_topic|        0|   794|2020-10-08 18:52:...|            0|\n",
      "|[31 31 32]|[7B 22 5F 63 30 2...|default_topic|        0|   795|2020-10-08 18:52:...|            0|\n",
      "|[31 31 33]|[7B 22 5F 63 30 2...|default_topic|        0|   796|2020-10-08 18:52:...|            0|\n",
      "|[31 31 34]|[7B 22 5F 63 30 2...|default_topic|        0|   797|2020-10-08 18:52:...|            0|\n",
      "|[31 31 35]|[7B 22 5F 63 30 2...|default_topic|        0|   798|2020-10-08 18:52:...|            0|\n",
      "|[31 31 36]|[7B 22 5F 63 30 2...|default_topic|        0|   799|2020-10-08 18:52:...|            0|\n",
      "|[31 31 37]|[7B 22 5F 63 30 2...|default_topic|        0|   800|2020-10-08 18:52:...|            0|\n",
      "|[31 31 38]|[7B 22 5F 63 30 2...|default_topic|        0|   801|2020-10-08 18:52:...|            0|\n",
      "|[31 31 39]|[7B 22 5F 63 30 2...|default_topic|        0|   802|2020-10-08 18:52:...|            0|\n",
      "|[31 32 30]|[7B 22 5F 63 30 2...|default_topic|        0|   803|2020-10-08 18:52:...|            0|\n",
      "|[31 32 31]|[7B 22 5F 63 30 2...|default_topic|        0|   804|2020-10-08 18:52:...|            0|\n",
      "|[31 32 32]|[7B 22 5F 63 30 2...|default_topic|        0|   805|2020-10-08 18:52:...|            0|\n",
      "|[31 32 33]|[7B 22 5F 63 30 2...|default_topic|        0|   806|2020-10-08 18:52:...|            0|\n",
      "|[31 32 34]|[7B 22 5F 63 30 2...|default_topic|        0|   807|2020-10-08 18:52:...|            0|\n",
      "|[31 32 35]|[7B 22 5F 63 30 2...|default_topic|        0|   808|2020-10-08 18:52:...|            0|\n",
      "|[31 32 36]|[7B 22 5F 63 30 2...|default_topic|        0|   809|2020-10-08 18:52:...|            0|\n",
      "+----------+--------------------+-------------+---------+------+--------------------+-------------+\n",
      "only showing top 20 rows\n",
      "\n"
     ]
    }
   ],
   "source": [
    "spark.sql('SELECT * FROM device_counts').show()"
   ]
  },
  {
   "cell_type": "code",
   "execution_count": null,
   "metadata": {},
   "outputs": [],
   "source": []
  }
 ],
 "metadata": {
  "kernelspec": {
   "display_name": "Python 3",
   "language": "python",
   "name": "python3"
  },
  "language_info": {
   "codemirror_mode": {
    "name": "ipython",
    "version": 3
   },
   "file_extension": ".py",
   "mimetype": "text/x-python",
   "name": "python",
   "nbconvert_exporter": "python",
   "pygments_lexer": "ipython3",
   "version": "3.8.5"
  }
 },
 "nbformat": 4,
 "nbformat_minor": 4
}
